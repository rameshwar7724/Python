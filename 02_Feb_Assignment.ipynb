{
 "cells": [
  {
   "cell_type": "markdown",
   "id": "af02f5fc",
   "metadata": {},
   "source": [
    "# Q1.  Explain with an example each when to use a for loop and a while loop"
   ]
  },
  {
   "cell_type": "markdown",
   "id": "35bc284d",
   "metadata": {},
   "source": [
    "# ANS: \n",
    "A for loop is used when you know how many times you need to iterate over a sequence of elements. It is a great choice when you have a fixed number of elements in the sequence and want to perform the same operation on each element."
   ]
  },
  {
   "cell_type": "code",
   "execution_count": 1,
   "id": "6b0f90f2",
   "metadata": {},
   "outputs": [
    {
     "name": "stdout",
     "output_type": "stream",
     "text": [
      "1\n",
      "2\n",
      "3\n",
      "4\n",
      "5\n"
     ]
    }
   ],
   "source": [
    "for number in [1, 2, 3, 4, 5]:\n",
    "    print(number)\n"
   ]
  },
  {
   "cell_type": "markdown",
   "id": "238eabab",
   "metadata": {},
   "source": [
    "# \n",
    "A while loop is used when you don't know how many times you need to iterate over a block of code, and the loop will continue until a specific condition is met. It's a great choice when you need to keep looping until a certain condition is met."
   ]
  },
  {
   "cell_type": "code",
   "execution_count": 2,
   "id": "bffbc8d0",
   "metadata": {},
   "outputs": [
    {
     "name": "stdout",
     "output_type": "stream",
     "text": [
      "You rolled a 2\n",
      "You rolled a 1\n",
      "You rolled a 3\n",
      "You rolled a 1\n",
      "You rolled a 1\n",
      "You rolled a 1\n",
      "You rolled a 4\n",
      "You rolled a 4\n",
      "You rolled a 3\n",
      "You rolled a 4\n",
      "You rolled a 5\n",
      "You rolled a 3\n",
      "You rolled a 2\n",
      "You rolled a 5\n",
      "You rolled a 1\n",
      "You rolled a 3\n",
      "You rolled a 3\n",
      "You rolled a 2\n",
      "You rolled a 2\n",
      "You rolled a 6\n",
      "You win!\n"
     ]
    }
   ],
   "source": [
    "import random\n",
    "\n",
    "dice_roll = 0\n",
    "while dice_roll != 6:\n",
    "    dice_roll = random.randint(1, 6)\n",
    "    print(\"You rolled a\", dice_roll)\n",
    "\n",
    "print(\"You win!\")\n"
   ]
  },
  {
   "cell_type": "code",
   "execution_count": null,
   "id": "d65fb47e",
   "metadata": {},
   "outputs": [],
   "source": []
  },
  {
   "cell_type": "code",
   "execution_count": null,
   "id": "fbbd915d",
   "metadata": {},
   "outputs": [],
   "source": []
  },
  {
   "cell_type": "markdown",
   "id": "af984a26",
   "metadata": {},
   "source": [
    "# Q2.  Write a python program to print the sum and product of the first 10 natural numbers using for and while loop."
   ]
  },
  {
   "cell_type": "markdown",
   "id": "5cca1d4c",
   "metadata": {},
   "source": [
    "# Ans:"
   ]
  },
  {
   "cell_type": "code",
   "execution_count": 4,
   "id": "392c3917",
   "metadata": {},
   "outputs": [],
   "source": [
    "# Using FOR Loop"
   ]
  },
  {
   "cell_type": "code",
   "execution_count": 7,
   "id": "94a1197e",
   "metadata": {},
   "outputs": [
    {
     "name": "stdout",
     "output_type": "stream",
     "text": [
      "Sum of first 10 natural numbers using for loop: 55\n",
      "Product of first 10 natural numbers using for loop: 3628800\n"
     ]
    }
   ],
   "source": [
    "# Sum of the first 10 natural numbers using for loop\n",
    "sum = 0\n",
    "for i in range(1, 11):\n",
    "    sum += i\n",
    "print(\"Sum of first 10 natural numbers using for loop:\", sum)\n",
    "\n",
    "# Product of the first 10 natural numbers using for loop\n",
    "product = 1\n",
    "for i in range(1, 11):\n",
    "    product *= i\n",
    "print(\"Product of first 10 natural numbers using for loop:\", prod)\n"
   ]
  },
  {
   "cell_type": "code",
   "execution_count": 6,
   "id": "c3df430e",
   "metadata": {},
   "outputs": [],
   "source": [
    "# Using While Loop"
   ]
  },
  {
   "cell_type": "code",
   "execution_count": 8,
   "id": "c5a01581",
   "metadata": {},
   "outputs": [
    {
     "name": "stdout",
     "output_type": "stream",
     "text": [
      "Sum of first 10 natural numbers using while loop: 55\n",
      "Product of first 10 natural numbers using while loop: 3628800\n"
     ]
    }
   ],
   "source": [
    "# Sum of the first 10 natural numbers using while loop\n",
    "sum = 0\n",
    "i = 1\n",
    "while i <= 10:\n",
    "    sum += i\n",
    "    i += 1\n",
    "print(\"Sum of first 10 natural numbers using while loop:\", sum)\n",
    "\n",
    "# Product of the first 10 natural numbers using while loop\n",
    "prod = 1\n",
    "i = 1\n",
    "while i <= 10:\n",
    "    prod *= i\n",
    "    i += 1\n",
    "print(\"Product of first 10 natural numbers using while loop:\", prod)\n"
   ]
  },
  {
   "cell_type": "markdown",
   "id": "b689a455",
   "metadata": {},
   "source": [
    "#  Q3. Create a python program to compute the electricity bill for a household.The per-unit charges in rupees are as follows: For the first 100 units, the user will be charged Rs. 4.5 per unit, for the next 100 units, the user will be charged Rs. 6 per unit, and for the next 100 units, the user will be charged Rs. 10 per unit, After 300 units and above the user will be charged Rs. 20 per unit.You are required to take the units of electricity consumed in a month from the user as input.Your program must pass this test case: when the unit of electricity consumed by the user in a month is 310, the total electricity bill should be 2250."
   ]
  },
  {
   "cell_type": "code",
   "execution_count": 9,
   "id": "897ed70d",
   "metadata": {},
   "outputs": [
    {
     "name": "stdout",
     "output_type": "stream",
     "text": [
      "Enter the units of electricity consumed: 25\n",
      "Electricity bill: Rs. 112.5\n"
     ]
    }
   ],
   "source": [
    "# Get the units of electricity consumed from the user\n",
    "units = int(input(\"Enter the units of electricity consumed: \"))\n",
    "\n",
    "# Calculate the bill amount based on the per-unit charges\n",
    "if units <= 100:\n",
    "    bill = units * 4.5\n",
    "elif units <= 200:\n",
    "    bill = 100 * 4.5 + (units - 100) * 6\n",
    "elif units <= 300:\n",
    "    bill = 100 * 4.5 + 100 * 6 + (units - 200) * 10\n",
    "else:\n",
    "    bill = 100 * 4.5 + 100 * 6 + 100 * 10 + (units - 300) * 20\n",
    "\n",
    "# Display the bill amount\n",
    "print(\"Electricity bill: Rs.\", bill)\n"
   ]
  },
  {
   "cell_type": "markdown",
   "id": "1f43753a",
   "metadata": {},
   "source": [
    "# Q4. Create a list of numbers from 1 to 100. Use for loop and while loop to calculate the cube of each number and if the cube of that number is divisible by 4 or 5 then append that number in a list and print that list"
   ]
  },
  {
   "cell_type": "code",
   "execution_count": 10,
   "id": "943ca9bb",
   "metadata": {},
   "outputs": [],
   "source": [
    "# Using For Loop"
   ]
  },
  {
   "cell_type": "code",
   "execution_count": 14,
   "id": "619d33c5",
   "metadata": {},
   "outputs": [
    {
     "name": "stdout",
     "output_type": "stream",
     "text": [
      "[2, 4, 5, 6, 8, 10, 12, 14, 15, 16, 18, 20, 22, 24, 25, 26, 28, 30, 32, 34, 35, 36, 38, 40, 42, 44, 45, 46, 48, 50, 52, 54, 55, 56, 58, 60, 62, 64, 65, 66, 68, 70, 72, 74, 75, 76, 78, 80, 82, 84, 85, 86, 88, 90, 92, 94, 95, 96, 98, 100]\n"
     ]
    }
   ],
   "source": [
    "numbers = list(range(1, 101))  # create a list of numbers from 1 to 100\n",
    "result = []  # create an empty list to store the results\n",
    "\n",
    "for num in numbers:\n",
    "    cube = num ** 3  # calculate the cube of the number\n",
    "    if cube % 4 == 0 or cube % 5 == 0:  # check if the cube is divisible by 4 or 5\n",
    "        result.append(num)  # append the number to the result list if it is divisible\n",
    "\n",
    "print(result)  # print the list of numbers whose cubes are divisible by 4 or 5\n"
   ]
  },
  {
   "cell_type": "code",
   "execution_count": 15,
   "id": "a33dafb4",
   "metadata": {},
   "outputs": [],
   "source": [
    "# Using While Loop"
   ]
  },
  {
   "cell_type": "code",
   "execution_count": 16,
   "id": "d5626d86",
   "metadata": {},
   "outputs": [
    {
     "name": "stdout",
     "output_type": "stream",
     "text": [
      "[2, 4, 5, 6, 8, 10, 12, 14, 15, 16, 18, 20, 22, 24, 25, 26, 28, 30, 32, 34, 35, 36, 38, 40, 42, 44, 45, 46, 48, 50, 52, 54, 55, 56, 58, 60, 62, 64, 65, 66, 68, 70, 72, 74, 75, 76, 78, 80, 82, 84, 85, 86, 88, 90, 92, 94, 95, 96, 98, 100]\n"
     ]
    }
   ],
   "source": [
    "numbers = list(range(1, 101))  # create a list of numbers from 1 to 100\n",
    "result = []  # create an empty list to store the results\n",
    "\n",
    "i = 0  # set the initial index of the numbers list to 0\n",
    "while i < len(numbers):\n",
    "    num = numbers[i]\n",
    "    cube = num ** 3  # calculate the cube of the number\n",
    "    if cube % 4 == 0 or cube % 5 == 0:  # check if the cube is divisible by 4 or 5\n",
    "        result.append(num)  # append the number to the result list if it is divisible\n",
    "    i += 1  # increment the index\n",
    "\n",
    "print(result)  # print the list of numbers whose cubes are divisible by 4 or 5\n"
   ]
  },
  {
   "cell_type": "markdown",
   "id": "19e0030b",
   "metadata": {},
   "source": [
    "# Q5.  Write a program to filter count vowels in the below-given string. string = \"I want to become a data scientist\""
   ]
  },
  {
   "cell_type": "code",
   "execution_count": 18,
   "id": "aed7b927",
   "metadata": {},
   "outputs": [
    {
     "name": "stdout",
     "output_type": "stream",
     "text": [
      "Number of vowels in the string: 12\n"
     ]
    }
   ],
   "source": [
    "string = \"I want to become a data scientist\"\n",
    "\n",
    "vowels = \"aeiouAEIOU\"\n",
    "vowel_count = 0\n",
    "\n",
    "for char in string:\n",
    "    if char in vowels:\n",
    "        vowel_count += 1\n",
    "\n",
    "print(\"Number of vowels in the string:\", vowel_count)\n"
   ]
  },
  {
   "cell_type": "code",
   "execution_count": 19,
   "id": "31961f54",
   "metadata": {},
   "outputs": [
    {
     "ename": "SyntaxError",
     "evalue": "invalid syntax (2830201818.py, line 1)",
     "output_type": "error",
     "traceback": [
      "\u001b[1;36m  File \u001b[1;32m\"C:\\Users\\Admin\\AppData\\Local\\Temp\\ipykernel_12356\\2830201818.py\"\u001b[1;36m, line \u001b[1;32m1\u001b[0m\n\u001b[1;33m    git init\u001b[0m\n\u001b[1;37m        ^\u001b[0m\n\u001b[1;31mSyntaxError\u001b[0m\u001b[1;31m:\u001b[0m invalid syntax\n"
     ]
    }
   ],
   "source": [
    "git init"
   ]
  },
  {
   "cell_type": "code",
   "execution_count": null,
   "id": "5c17b6ad",
   "metadata": {},
   "outputs": [],
   "source": []
  }
 ],
 "metadata": {
  "kernelspec": {
   "display_name": "Python 3 (ipykernel)",
   "language": "python",
   "name": "python3"
  },
  "language_info": {
   "codemirror_mode": {
    "name": "ipython",
    "version": 3
   },
   "file_extension": ".py",
   "mimetype": "text/x-python",
   "name": "python",
   "nbconvert_exporter": "python",
   "pygments_lexer": "ipython3",
   "version": "3.9.13"
  }
 },
 "nbformat": 4,
 "nbformat_minor": 5
}
